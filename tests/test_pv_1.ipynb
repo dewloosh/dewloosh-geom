{
 "cells": [
  {
   "cell_type": "code",
   "execution_count": 78,
   "metadata": {},
   "outputs": [],
   "source": [
    "from dewloosh.geom import PolyData, Tetra\n",
    "import pyvista as pv\n",
    "import numpy as np\n",
    "import tetgen"
   ]
  },
  {
   "cell_type": "code",
   "execution_count": 79,
   "metadata": {},
   "outputs": [],
   "source": [
    "# cm\n",
    "d = 6.0\n",
    "h = 15.0\n",
    "a = 15.0"
   ]
  },
  {
   "cell_type": "code",
   "execution_count": 80,
   "metadata": {},
   "outputs": [],
   "source": [
    "def make_cube(size, shape):\n",
    "    lx, ly, lz = size\n",
    "    nx, ny, nz = shape\n",
    "    x = np.linspace(-lx/2, lx/2, nx)\n",
    "    y = np.linspace(-ly/2, ly/2, ny)\n",
    "    z = np.linspace(-lz/2, lz/2, nz)\n",
    "    grid = pv.StructuredGrid(*np.meshgrid(x, y, z))\n",
    "    return grid.extract_surface().triangulate()\n",
    "\n",
    "# Create to examplee PolyData meshes for boolean operations\n",
    "sphere = pv.Sphere(radius=d/2, center=(0, 0, h/2))\n",
    "cube = make_cube((a, a, h), (25, 25, 25))\n",
    "cube.flip_normals()\n",
    "diff = cube.boolean_difference(sphere)\n",
    "\n",
    "# tetrahedralize\n",
    "tet = tetgen.TetGen(diff)\n",
    "tet.tetrahedralize(order=1, mindihedral=10, minratio=1.1, quality = True)\n",
    "grid = tet.grid"
   ]
  },
  {
   "cell_type": "code",
   "execution_count": 81,
   "metadata": {},
   "outputs": [],
   "source": [
    "coords = np.array(grid.points).astype(float)\n",
    "topo = grid.cells_dict[10].astype(np.int32)\n",
    "pd = PolyData(coords=coords, topo=topo, celltype=Tetra)"
   ]
  },
  {
   "cell_type": "code",
   "execution_count": 82,
   "metadata": {},
   "outputs": [],
   "source": [
    "pd.plot()"
   ]
  },
  {
   "cell_type": "code",
   "execution_count": 83,
   "metadata": {},
   "outputs": [],
   "source": [
    "cyl = pv.CylinderStructured(center=(0.0, 0.0, 0.0), direction=(0.0, 0.0, 1.0),\n",
    "                            radius=np.linspace(d/2, a/2, 15), height=h, \n",
    "                            theta_resolution=100, z_resolution=40)\n",
    "cyl_surf = cyl.extract_surface().triangulate()\n",
    "cyl_surf.plot(notebook=False, show_edges=True)"
   ]
  }
 ],
 "metadata": {
  "interpreter": {
   "hash": "8d15e2cb4dca8274af5fb092bbadab583a099b53b169f927cb892edc8b735b32"
  },
  "kernelspec": {
   "display_name": "Python 3.8.10 64-bit ('.dewloosh': venv)",
   "language": "python",
   "name": "python3"
  },
  "language_info": {
   "codemirror_mode": {
    "name": "ipython",
    "version": 3
   },
   "file_extension": ".py",
   "mimetype": "text/x-python",
   "name": "python",
   "nbconvert_exporter": "python",
   "pygments_lexer": "ipython3",
   "version": "3.8.10"
  },
  "orig_nbformat": 4
 },
 "nbformat": 4,
 "nbformat_minor": 2
}
