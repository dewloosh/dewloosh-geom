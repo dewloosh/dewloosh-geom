{
 "cells": [
  {
   "cell_type": "code",
   "execution_count": null,
   "metadata": {},
   "outputs": [],
   "source": [
    "import numpy as np\n",
    "from dewloosh.geom import grid, Grid, PolyData, CartesianFrame\n",
    "from dewloosh.geom.cells import H8, H27, Q9, Q4"
   ]
  },
  {
   "cell_type": "code",
   "execution_count": null,
   "metadata": {},
   "outputs": [],
   "source": [
    "size = Lx, Ly, Lz = 800, 600, 100\n",
    "shape = nx, ny, nz = 8, 6, 2"
   ]
  },
  {
   "cell_type": "code",
   "execution_count": null,
   "metadata": {},
   "outputs": [],
   "source": [
    "xbins = np.linspace(0, Lx, nx+1)\n",
    "ybins = np.linspace(0, Ly, ny+1)\n",
    "zbins = np.linspace(0, Lz, nz+1)"
   ]
  },
  {
   "cell_type": "code",
   "execution_count": null,
   "metadata": {},
   "outputs": [],
   "source": [
    "bins = xbins, ybins, zbins\n",
    "coords, topo = grid(bins=bins, eshape='H8')\n",
    "pd = PolyData(coords=coords, topo=topo, celltype=H8)\n",
    "pd.plot()"
   ]
  },
  {
   "cell_type": "code",
   "execution_count": null,
   "metadata": {},
   "outputs": [],
   "source": [
    "bins = xbins, ybins, zbins\n",
    "coords, topo = grid(bins=bins, eshape='H27')\n",
    "pd = PolyData(coords=coords, topo=topo, celltype=H27)\n",
    "pd.plot()"
   ]
  },
  {
   "cell_type": "code",
   "execution_count": null,
   "metadata": {},
   "outputs": [],
   "source": [
    "bins = xbins, ybins\n",
    "coords, topo = grid(bins=bins, eshape='Q4')\n",
    "frame = CartesianFrame(dim=3)\n",
    "pd = PolyData(coords=coords, topo=topo, celltype=Q4, frame=frame)\n",
    "pd.plot()"
   ]
  },
  {
   "cell_type": "code",
   "execution_count": null,
   "metadata": {},
   "outputs": [],
   "source": [
    "bins = xbins, ybins\n",
    "coords, topo = grid(bins=bins, eshape='Q9')\n",
    "frame = CartesianFrame(dim=3)\n",
    "pd = PolyData(coords=coords, topo=topo, celltype=Q9, frame=frame)\n",
    "pd.plot()"
   ]
  }
 ],
 "metadata": {
  "kernelspec": {
   "display_name": "Python 3.8.10 ('.venv': venv)",
   "language": "python",
   "name": "python3"
  },
  "language_info": {
   "codemirror_mode": {
    "name": "ipython",
    "version": 3
   },
   "file_extension": ".py",
   "mimetype": "text/x-python",
   "name": "python",
   "nbconvert_exporter": "python",
   "pygments_lexer": "ipython3",
   "version": "3.8.10"
  },
  "orig_nbformat": 4,
  "vscode": {
   "interpreter": {
    "hash": "9c2b48080b9534e70b93bd405daf21f734949f5d4ed9a4b80ef04ea3f0227e4a"
   }
  }
 },
 "nbformat": 4,
 "nbformat_minor": 2
}
