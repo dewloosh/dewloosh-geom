{
 "cells": [
  {
   "cell_type": "code",
   "execution_count": 1,
   "metadata": {},
   "outputs": [],
   "source": [
    "from dewloosh.geom import PolyData\n",
    "from dewloosh.geom.tri import triangulate\n",
    "from dewloosh.geom.space import StandardFrame, PointCloud\n",
    "from dewloosh.geom.utils import centralize, center_of_points\n",
    "from dewloosh.math.linalg import linspace\n",
    "from dewloosh.geom.tri import triangulate\n",
    "from dewloosh.geom import grid\n",
    "from dewloosh.geom.tri.triutils import get_points_inside_triangles\n",
    "from dewloosh.geom.topo import remap_topo\n",
    "from sectionproperties.pre.library.steel_sections import i_section as ISection\n",
    "from sectionproperties.pre.library.steel_sections import circular_hollow_section as CHS\n",
    "import numpy as np"
   ]
  },
  {
   "cell_type": "code",
   "execution_count": 2,
   "metadata": {},
   "outputs": [],
   "source": [
    "sections = {}\n",
    "sections['front'] = ISection(d=203, b=133, t_f=7.8, t_w=5.8, r=8.9, n_r=16)\n",
    "sections['back'] = CHS(d=200, t=10, n=64)\n",
    "sections = {}\n",
    "#sections['left'] = CHS(d=200, t=10, n=64)"
   ]
  },
  {
   "cell_type": "code",
   "execution_count": 3,
   "metadata": {},
   "outputs": [],
   "source": [
    "Lx, Ly, Lz = 300, 300, 300\n",
    "points_per_edge = 3\n",
    "mesh_size = Lx / (points_per_edge-1)"
   ]
  },
  {
   "cell_type": "code",
   "execution_count": 4,
   "metadata": {},
   "outputs": [],
   "source": [
    "points = []\n",
    "nTotalPoints = 0  # node counter\n",
    "\n",
    "# corners\n",
    "corner_coords = [\n",
    "    [-Lx/2, -Ly/2, -Lz/2],\n",
    "    [Lx/2, -Ly/2, -Lz/2],\n",
    "    [Lx/2, Ly/2, -Lz/2],\n",
    "    [-Lx/2, Ly/2, -Lz/2],\n",
    "    [-Lx/2, -Ly/2, Lz/2],\n",
    "    [Lx/2, -Ly/2, Lz/2],\n",
    "    [Lx/2, Ly/2, Lz/2],\n",
    "    [-Lx/2, Ly/2, Lz/2]\n",
    "]\n",
    "corner_coords = np.array(corner_coords)\n",
    "points.append(corner_coords)\n",
    "nTotalPoints += len(corner_coords)\n",
    "\n",
    "# populate edges\n",
    "nodes_of_edges = [\n",
    "    [0, 1], [1, 2], [2, 3], [3, 0],\n",
    "    [4, 5], [5, 6], [6, 7], [7, 4],\n",
    "    [0, 4], [1, 5], [2, 6], [3, 7]\n",
    "    ]\n",
    "edge_coords = []\n",
    "N = points_per_edge + 2\n",
    "for nodes in nodes_of_edges:\n",
    "    p0 = corner_coords[nodes[0]]\n",
    "    p1 = corner_coords[nodes[1]]\n",
    "    edge_coords.append(linspace(p0, p1, N)[1:-1])\n",
    "edge_coords = np.vstack(edge_coords)\n",
    "points.append(edge_coords)\n",
    "nTotalPoints += len(edge_coords)\n",
    "\n",
    "# faces\n",
    "corners_of_faces = {\n",
    "    'front' : [1, 2, 6, 5], \n",
    "    'back' : [0, 3, 7, 4], \n",
    "    'left' : [2, 3, 7, 6],  \n",
    "    'right' : [0, 1, 5, 4],\n",
    "    'bottom' : [0, 1, 2, 3], \n",
    "    'top' : [4, 5, 6, 7],  \n",
    "}\n",
    "edges_of_faces = {\n",
    "    'front' : [1, 5, 9, 10], \n",
    "    'back' : [3, 7, 8, 11], \n",
    "    'right' : [0, 9, 4, 8],  \n",
    "    'left' : [2, 6, 10, 11],\n",
    "    'bottom' : [0, 1, 2, 3], \n",
    "    'top' : [4, 5, 6, 7],  \n",
    "}\n",
    "\n",
    "# center of face\n",
    "def cof(id) : return center_of_points(corner_coords[corners_of_faces[id]])\n",
    "\n",
    "# face frames\n",
    "frames = {}\n",
    "frames['front'] = StandardFrame(dim=3, origo=cof('front'))\n",
    "rot90z = 'Body', [0, 0, np.pi/2], 'XYZ'\n",
    "frames['left'] = frames['front'].fork(*rot90z).move(cof('left') - cof('front'))\n",
    "frames['back'] = frames['left'].fork(*rot90z).move(cof('back') - cof('left'))\n",
    "frames['right'] = frames['back'].fork(*rot90z).move(cof('right') - cof('back'))\n",
    "rot_front_top = 'Body', [0, -np.pi/2, 0], 'XYZ'\n",
    "frames['top'] = frames['front'].fork(*rot_front_top).move(cof('top') - cof('front'))\n",
    "rot180y = 'Body', [0, np.pi, 0], 'XYZ'\n",
    "frames['bottom'] = frames['top'].fork(*rot180y).move(cof('bottom') - cof('top'))"
   ]
  },
  {
   "cell_type": "code",
   "execution_count": 5,
   "metadata": {},
   "outputs": [],
   "source": [
    "def xy_to_yz(coords):\n",
    "    _c = np.zeros((coords.shape[0], 3))\n",
    "    _c[:, 1] = coords[:, 0]\n",
    "    _c[:, 2] = coords[:, 1]\n",
    "    return _c\n",
    "\n",
    "def yz_to_xy(coords):\n",
    "    _c = np.zeros((coords.shape[0], 3))\n",
    "    _c[:, 0] = coords[:, 1]\n",
    "    _c[:, 1] = coords[:, 2]\n",
    "    return _c\n",
    "    \n",
    "coords_grid, topo_grid = grid(size=(Lx*0.99, Ly*0.99), shape=(N, N), eshape='Q4', centralize=True)\n",
    "Grid = PolyData(coords=coords_grid, topo=topo_grid)\n",
    "grid_centers = Grid.centers()[:, :2]"
   ]
  },
  {
   "cell_type": "code",
   "execution_count": 6,
   "metadata": {},
   "outputs": [],
   "source": [
    "faces = {}\n",
    "for face in ['left']:\n",
    "    \n",
    "    f_frame = frames[face]    \n",
    "    # collect points on corners and edges and their global indices\n",
    "    # these indices are used later to remap the default topology\n",
    "    # resulting from per-face triangulations\n",
    "    f_coords_base = []\n",
    "    f_inds_base = []\n",
    "    _corner_inds = []\n",
    "    for corner in corners_of_faces[face]:\n",
    "        f_coords_base.append(corner_coords[corner])\n",
    "        _corner_inds.append(corner)\n",
    "    f_inds_base.append(np.array(_corner_inds, dtype=int))\n",
    "    for edge in edges_of_faces[face]:\n",
    "        inds = np.arange(points_per_edge) + edge * points_per_edge\n",
    "        f_coords_base.append(edge_coords[inds])\n",
    "        f_inds_base.append(inds + 8)\n",
    "        \n",
    "    # transform the coords (base coordinates) so far to face frame    \n",
    "    f_coords_base = PointCloud(np.vstack(f_coords_base)).show(f_frame)\n",
    "    f_coords_base = yz_to_xy(f_coords_base)[:, :2]\n",
    "    \n",
    "    # global indices and number of corner and edge points\n",
    "    f_inds_base = np.concatenate(f_inds_base)\n",
    "    nBasePoints = len(f_inds_base)\n",
    "    \n",
    "    # build face    \n",
    "    if face in sections:\n",
    "        # 1) create the mesh of the section\n",
    "        # 2) rule out points of the base grid that the section covers\n",
    "        # 3) add corner and edge nodes and do a triangulation \n",
    "        f_section = sections[face]\n",
    "        f_section.create_mesh(mesh_sizes=[mesh_size])\n",
    "        f_coords = centralize(np.array(f_section.mesh['vertices']))\n",
    "        f_topo = np.array(f_section.mesh['triangles'].tolist())[:, :3]\n",
    "        f_inds = get_points_inside_triangles(f_coords, f_topo, grid_centers).astype(bool)        \n",
    "        f_coords = np.vstack([f_coords_base, f_coords, grid_centers[~f_inds]])\n",
    "        f_coords, f_topo, _ = triangulate(points=f_coords)\n",
    "    else:\n",
    "        f_coords = np.vstack([f_coords_base, grid_centers])\n",
    "        f_coords, f_topo, _ = triangulate(points=f_coords)\n",
    "                \n",
    "    # faces share some points, hence they must be consistent\n",
    "    # in node numbering --> remap topology to match indices\n",
    "    # of corner and edge nodes\n",
    "    f_inds = np.arange(len(f_coords))\n",
    "    nNewPoints = len(f_coords) - nBasePoints\n",
    "    f_inds[:nBasePoints] = f_inds_base\n",
    "    f_inds[nBasePoints:] = np.arange(nNewPoints) + nTotalPoints\n",
    "    nTotalPoints += nNewPoints\n",
    "    f_topo = remap_topo(f_topo, f_inds)\n",
    "    \n",
    "    # transform to global and append new coords to total collection\n",
    "    f_coords = PointCloud(xy_to_yz(f_coords[nBasePoints:]), frame=f_frame).show()\n",
    "    points.append(f_coords)\n",
    "    \n",
    "    # add topology to face to total collection\n",
    "    faces[face] = f_topo "
   ]
  },
  {
   "cell_type": "code",
   "execution_count": 7,
   "metadata": {},
   "outputs": [],
   "source": [
    "cube = PolyData(coords=np.vstack(points))\n",
    "for face in faces:\n",
    "    cube[face] = PolyData(topo=faces[face])"
   ]
  },
  {
   "cell_type": "code",
   "execution_count": 8,
   "metadata": {},
   "outputs": [
    {
     "data": {
      "text/plain": [
       "ArrayBase([  0., 150.,   0.])"
      ]
     },
     "execution_count": 8,
     "metadata": {},
     "output_type": "execute_result"
    }
   ],
   "source": [
    "frames['left'].origo()"
   ]
  },
  {
   "cell_type": "code",
   "execution_count": 9,
   "metadata": {},
   "outputs": [
    {
     "data": {
      "text/plain": [
       "array([[15, 16, 59],\n",
       "       [65, 41, 42],\n",
       "       [64, 16,  3],\n",
       "       [ 3, 41, 64],\n",
       "       [64, 59, 16]])"
      ]
     },
     "execution_count": 9,
     "metadata": {},
     "output_type": "execute_result"
    }
   ],
   "source": [
    "cube.topology()[:5]"
   ]
  },
  {
   "cell_type": "code",
   "execution_count": 10,
   "metadata": {},
   "outputs": [
    {
     "data": {
      "text/plain": [
       "array([[15, 16, 59],\n",
       "       [65, 41, 42],\n",
       "       [64, 16,  3],\n",
       "       [ 3, 41, 64],\n",
       "       [64, 59, 16]])"
      ]
     },
     "execution_count": 10,
     "metadata": {},
     "output_type": "execute_result"
    }
   ],
   "source": [
    "cube['left'].topology()[:5]"
   ]
  },
  {
   "cell_type": "code",
   "execution_count": 11,
   "metadata": {},
   "outputs": [],
   "source": [
    "cube.plot()"
   ]
  },
  {
   "cell_type": "code",
   "execution_count": 12,
   "metadata": {},
   "outputs": [
    {
     "data": {
      "text/plain": [
       "(69, 3)"
      ]
     },
     "execution_count": 12,
     "metadata": {},
     "output_type": "execute_result"
    }
   ],
   "source": [
    "cube.coords().shape"
   ]
  },
  {
   "cell_type": "code",
   "execution_count": 13,
   "metadata": {},
   "outputs": [
    {
     "data": {
      "text/plain": [
       "(64, 3)"
      ]
     },
     "execution_count": 13,
     "metadata": {},
     "output_type": "execute_result"
    }
   ],
   "source": [
    "cube.topology().shape"
   ]
  },
  {
   "cell_type": "code",
   "execution_count": 14,
   "metadata": {},
   "outputs": [
    {
     "data": {
      "text/plain": [
       "(2, 68)"
      ]
     },
     "execution_count": 14,
     "metadata": {},
     "output_type": "execute_result"
    }
   ],
   "source": [
    "cube.topology().min(), cube.topology().max()"
   ]
  }
 ],
 "metadata": {
  "interpreter": {
   "hash": "8d15e2cb4dca8274af5fb092bbadab583a099b53b169f927cb892edc8b735b32"
  },
  "kernelspec": {
   "display_name": "Python 3.8.10 64-bit ('.dewloosh': venv)",
   "language": "python",
   "name": "python3"
  },
  "language_info": {
   "codemirror_mode": {
    "name": "ipython",
    "version": 3
   },
   "file_extension": ".py",
   "mimetype": "text/x-python",
   "name": "python",
   "nbconvert_exporter": "python",
   "pygments_lexer": "ipython3",
   "version": "3.8.10"
  },
  "orig_nbformat": 4
 },
 "nbformat": 4,
 "nbformat_minor": 2
}
