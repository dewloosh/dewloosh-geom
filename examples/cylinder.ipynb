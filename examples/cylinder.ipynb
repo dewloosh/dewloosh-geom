{
 "cells": [
  {
   "cell_type": "code",
   "execution_count": 1,
   "metadata": {},
   "outputs": [],
   "source": [
    "from dewloosh.geom.primitives import Cylinder"
   ]
  },
  {
   "cell_type": "code",
   "execution_count": 2,
   "metadata": {},
   "outputs": [],
   "source": [
    "n_angles = 60\n",
    "n_radii = 30\n",
    "min_radius = 5\n",
    "max_radius = 25\n",
    "n_z = 20\n",
    "h = 50\n",
    "angle=1\n",
    "\n",
    "shape = (min_radius, max_radius), angle, h\n",
    "size = n_radii, n_angles, n_z\n"
   ]
  },
  {
   "cell_type": "code",
   "execution_count": 3,
   "metadata": {},
   "outputs": [],
   "source": [
    "cyl = Cylinder(shape, size)\n",
    "#cyl.plot()"
   ]
  },
  {
   "cell_type": "code",
   "execution_count": 4,
   "metadata": {},
   "outputs": [],
   "source": [
    "cyl = Cylinder(shape, size, regular=False)\n",
    "#cyl.plot()"
   ]
  },
  {
   "cell_type": "code",
   "execution_count": 5,
   "metadata": {},
   "outputs": [],
   "source": [
    "cyl = Cylinder(shape, size, voxelize=True)\n",
    "#cyl.plot()"
   ]
  },
  {
   "cell_type": "code",
   "execution_count": 6,
   "metadata": {},
   "outputs": [],
   "source": [
    "from dewloosh.geom.topo.tr import H8_to_L2\n",
    "import numpy as np\n",
    "coords = cyl.coords()\n",
    "topo = cyl.topology()\n",
    "c = cyl.centers()[:, 2]\n",
    "cm = (c.min() + c.max())/2\n",
    "upper = np.where(c > cm)[0]\n",
    "lower = np.where(c <= cm)[0]\n",
    "coordsL2, topoL2 = H8_to_L2(coords, topo[upper])"
   ]
  },
  {
   "cell_type": "code",
   "execution_count": 7,
   "metadata": {},
   "outputs": [],
   "source": [
    "from dewloosh.geom import PolyData\n",
    "from dewloosh.geom.cells import L2, H8\n",
    "pd = PolyData(coords=coordsL2)\n",
    "pd['beams', 'L2'] = PolyData(topo=topoL2, celltype=L2)\n",
    "pd['body', 'H8'] = PolyData(topo=topo[lower], celltype=H8)"
   ]
  },
  {
   "cell_type": "code",
   "execution_count": 8,
   "metadata": {},
   "outputs": [],
   "source": [
    "#pd.plot()"
   ]
  },
  {
   "cell_type": "code",
   "execution_count": 9,
   "metadata": {},
   "outputs": [
    {
     "data": {
      "text/plain": [
       "<Array [[38, 39], ... 336110, 336186, 334818]] type='654344 * var * int32'>"
      ]
     },
     "execution_count": 9,
     "metadata": {},
     "output_type": "execute_result"
    }
   ],
   "source": [
    "pd.topology()"
   ]
  },
  {
   "cell_type": "code",
   "execution_count": 10,
   "metadata": {},
   "outputs": [
    {
     "data": {
      "text/plain": [
       "<Array [38, 39] type='2 * int32'>"
      ]
     },
     "execution_count": 10,
     "metadata": {},
     "output_type": "execute_result"
    }
   ],
   "source": [
    "pd.topology()[0, :]"
   ]
  },
  {
   "cell_type": "code",
   "execution_count": 11,
   "metadata": {},
   "outputs": [
    {
     "data": {
      "text/plain": [
       "<Array [334741, 336109, ... 336186, 334818] type='8 * int32'>"
      ]
     },
     "execution_count": 11,
     "metadata": {},
     "output_type": "execute_result"
    }
   ],
   "source": [
    "pd.topology()[-1, :]"
   ]
  },
  {
   "cell_type": "code",
   "execution_count": 12,
   "metadata": {},
   "outputs": [
    {
     "data": {
      "text/plain": [
       "array([334741, 336109, 336185, 334817, 334742, 336110, 336186, 334818])"
      ]
     },
     "execution_count": 12,
     "metadata": {},
     "output_type": "execute_result"
    }
   ],
   "source": [
    "pd.topology()[-1, :].to_numpy()"
   ]
  },
  {
   "cell_type": "code",
   "execution_count": 13,
   "metadata": {},
   "outputs": [],
   "source": [
    "from dewloosh.geom.pointdata import PointData"
   ]
  },
  {
   "cell_type": "code",
   "execution_count": 14,
   "metadata": {},
   "outputs": [],
   "source": [
    "pd2 = PointData(coords=pd.coords(), z=pd.coords()[:, :2])"
   ]
  },
  {
   "cell_type": "code",
   "execution_count": 15,
   "metadata": {},
   "outputs": [
    {
     "data": {
      "text/plain": [
       "array([[-25.        ,  -4.33333333],\n",
       "       [-25.        ,  -4.33333333],\n",
       "       [-25.        ,  -4.33333333],\n",
       "       ...,\n",
       "       [ 25.        ,   4.33333333],\n",
       "       [ 25.        ,   4.33333333],\n",
       "       [ 25.        ,   4.33333333]])"
      ]
     },
     "execution_count": 15,
     "metadata": {},
     "output_type": "execute_result"
    }
   ],
   "source": [
    "pd2.z.to_numpy()"
   ]
  }
 ],
 "metadata": {
  "interpreter": {
   "hash": "21a5b831f31d8f5bc4d1a7e87efea655c8d919ed75ed2e2241ada442f25ec7bf"
  },
  "kernelspec": {
   "display_name": "Python 3.8.10 64-bit ('.dewloosh': venv)",
   "language": "python",
   "name": "python3"
  },
  "language_info": {
   "codemirror_mode": {
    "name": "ipython",
    "version": 3
   },
   "file_extension": ".py",
   "mimetype": "text/x-python",
   "name": "python",
   "nbconvert_exporter": "python",
   "pygments_lexer": "ipython3",
   "version": "3.8.10"
  },
  "orig_nbformat": 4
 },
 "nbformat": 4,
 "nbformat_minor": 2
}
