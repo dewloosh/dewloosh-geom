{
 "cells": [
  {
   "cell_type": "code",
   "execution_count": 62,
   "metadata": {},
   "outputs": [],
   "source": [
    "from dewloosh.geom import PolyData\n",
    "from dewloosh.geom.tri import triangulate\n",
    "from dewloosh.geom.space import StandardFrame\n",
    "from dewloosh.geom.utils import centralize\n",
    "from dewloosh.math.linalg import linspace\n",
    "from dewloosh.geom.tri import triangulate\n",
    "from dewloosh.geom import grid\n",
    "from dewloosh.geom.tri.triutils import get_points_inside_triangles\n",
    "from sectionproperties.pre.library.steel_sections import i_section as ISection\n",
    "from sectionproperties.pre.library.steel_sections import circular_hollow_section as CHS\n",
    "import numpy as np"
   ]
  },
  {
   "cell_type": "code",
   "execution_count": 63,
   "metadata": {},
   "outputs": [],
   "source": [
    "points = []"
   ]
  },
  {
   "cell_type": "code",
   "execution_count": 64,
   "metadata": {},
   "outputs": [],
   "source": [
    "# section\n",
    "A = StandardFrame(dim=3)\n",
    "geometry = ISection(d=203, b=133, t_f=7.8, t_w=5.8, r=8.9, n_r=16)\n",
    "#geometry = CHS(d=200, t=10, n=64)\n",
    "mesh = geometry.create_mesh(mesh_sizes=[3.0])\n",
    "coords = centralize(np.array(geometry.mesh['vertices']))\n",
    "topo = np.array(geometry.mesh['triangles'].tolist())[:, :3]\n",
    "section = PolyData(coords=coords, topo=topo, frame=A)\n",
    "points.append(section.coords())"
   ]
  },
  {
   "cell_type": "code",
   "execution_count": 65,
   "metadata": {},
   "outputs": [],
   "source": [
    "section.plot()"
   ]
  },
  {
   "cell_type": "markdown",
   "metadata": {},
   "source": [
    "Triangulate a single section embedded in a box"
   ]
  },
  {
   "cell_type": "code",
   "execution_count": 66,
   "metadata": {},
   "outputs": [],
   "source": [
    "\n",
    "padding = 0.2\n",
    "points_per_edge = 100\n",
    "\n",
    "dx = coords[:, 0].max() - coords[:, 0].min()\n",
    "dy = coords[:, 1].max() - coords[:, 1].min()\n",
    "Lxy = (1 + padding) * max(dx, dy)\n",
    "Lx, Ly, Lz = Lxy, Lxy, Lxy\n",
    "\n",
    "# grid points inside face\n",
    "N = points_per_edge + 2\n",
    "Grid = grid(size=(Lx*0.99, Ly*0.99), shape=(N, N), eshape='Q4', centralize=True)\n",
    "centers = PolyData(coords=Grid[0], topo=Grid[1], frame=A).centers()\n",
    "ids = get_points_inside_triangles(coords, topo, centers).astype(bool)\n",
    "points.append(centers[~ids])\n",
    "\n",
    "# grid points on edges\n",
    "xmin, xmax = -Lx/2, Lx/2\n",
    "ymin, ymax = -Ly/2, Ly/2\n",
    "points.append(linspace(np.array([xmin, ymin, 0]), \n",
    "                       np.array([xmax, ymin, 0]), N)[1:-1])\n",
    "points.append(linspace(np.array([xmax, ymin, 0]), \n",
    "                       np.array([xmax, ymax, 0]), N)[1:-1])\n",
    "points.append(linspace(np.array([xmax, ymax, 0]), \n",
    "                       np.array([xmin, ymax, 0]), N)[1:-1])\n",
    "points.append(linspace(np.array([xmin, ymax, 0]), \n",
    "                       np.array([xmin, ymin, 0]), N)[1:-1])\n",
    "\n",
    "# grid points on corners\n",
    "points.append(np.array([[xmin, ymin, 0]]))\n",
    "points.append(np.array([[xmax, ymin, 0]]))\n",
    "points.append(np.array([[xmax, ymax, 0]]))\n",
    "points.append(np.array([[xmin, ymax, 0]]))\n",
    "\n",
    "# put it all together\n",
    "points = np.vstack(points)"
   ]
  },
  {
   "cell_type": "code",
   "execution_count": 67,
   "metadata": {},
   "outputs": [],
   "source": [
    "# triangulate nad plot\n",
    "coords, topo, _ = triangulate(points=points)\n",
    "section = PolyData(coords=coords, topo=topo, frame=A)\n",
    "section.centralize()\n",
    "section.plot()"
   ]
  }
 ],
 "metadata": {
  "interpreter": {
   "hash": "8d15e2cb4dca8274af5fb092bbadab583a099b53b169f927cb892edc8b735b32"
  },
  "kernelspec": {
   "display_name": "Python 3.8.10 64-bit ('.dewloosh': venv)",
   "language": "python",
   "name": "python3"
  },
  "language_info": {
   "codemirror_mode": {
    "name": "ipython",
    "version": 3
   },
   "file_extension": ".py",
   "mimetype": "text/x-python",
   "name": "python",
   "nbconvert_exporter": "python",
   "pygments_lexer": "ipython3",
   "version": "3.8.10"
  },
  "orig_nbformat": 4
 },
 "nbformat": 4,
 "nbformat_minor": 2
}
