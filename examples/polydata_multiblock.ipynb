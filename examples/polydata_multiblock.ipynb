{
 "cells": [
  {
   "cell_type": "code",
   "execution_count": 15,
   "metadata": {},
   "outputs": [],
   "source": [
    "from dewloosh.geom import PolyData, TriMesh, grid\n",
    "from dewloosh.geom.space import PointCloud\n",
    "from dewloosh.geom.space import StandardFrame\n",
    "import numpy as np"
   ]
  },
  {
   "cell_type": "code",
   "execution_count": 16,
   "metadata": {},
   "outputs": [],
   "source": [
    "import sectionproperties.pre.sections as sections\n",
    "\n",
    "geometry = sections.ISection(d=203, b=133, t_f=7.8, t_w=5.8, r=8.9, n_r=16)\n",
    "mesh = geometry.create_mesh(mesh_sizes=[3.0])"
   ]
  },
  {
   "cell_type": "code",
   "execution_count": 17,
   "metadata": {},
   "outputs": [],
   "source": [
    "coords = np.array(mesh.points)\n",
    "topo = np.array(mesh.elements)\n",
    "A = StandardFrame(dim=3)\n",
    "mesh = PolyData(coords=coords, topo=topo[:, :3], frame=A)"
   ]
  },
  {
   "cell_type": "code",
   "execution_count": 18,
   "metadata": {},
   "outputs": [],
   "source": [
    "B = A.orient_new('Body', [0., 60*np.pi/180, 0.], 'XYZ')\n",
    "mesh = PolyData(coords=coords, topo=topo[:, :3], frame=B)\n"
   ]
  },
  {
   "cell_type": "code",
   "execution_count": 19,
   "metadata": {},
   "outputs": [],
   "source": [
    "mesh.plot()"
   ]
  },
  {
   "cell_type": "code",
   "execution_count": 20,
   "metadata": {},
   "outputs": [
    {
     "data": {
      "text/plain": [
       "VectorBase([[0.00000000e+00, 0.00000000e+00, 0.00000000e+00],\n",
       "            [1.33000000e+02, 0.00000000e+00, 1.97826436e-15],\n",
       "            [1.33000000e+02, 7.80000000e+00, 1.97826436e-15],\n",
       "            ...,\n",
       "            [1.19141084e+00, 2.65011840e+00, 1.77212452e-17],\n",
       "            [0.00000000e+00, 9.75000000e-01, 0.00000000e+00],\n",
       "            [1.00000000e+00, 0.00000000e+00, 1.48741681e-17]])"
      ]
     },
     "execution_count": 20,
     "metadata": {},
     "output_type": "execute_result"
    }
   ],
   "source": [
    "mesh.points().show(B)"
   ]
  },
  {
   "cell_type": "code",
   "execution_count": 21,
   "metadata": {},
   "outputs": [],
   "source": [
    "A = StandardFrame(dim=3)\n",
    "mesh = PolyData(frame=A)\n",
    "mesh['tri', 'trimesh-1'] = TriMesh(size=(800, 600), shape=(10, 10), frame=A)\n",
    "mesh['tri', 'trimesh-2'] = TriMesh(size=(600, 800), shape=(10, 10), frame=A)\n",
    "coords, topo = grid(size=(600, 800), shape=(10, 10), eshape='Q4')\n",
    "coords = PointCloud(coords, frame=A)\n",
    "mesh['quad', 'grid-1'] = PolyData(coords=coords.array, topo=topo, frame=A)"
   ]
  },
  {
   "cell_type": "code",
   "execution_count": 22,
   "metadata": {},
   "outputs": [
    {
     "data": {
      "text/plain": [
       "(324, 3)"
      ]
     },
     "execution_count": 22,
     "metadata": {},
     "output_type": "execute_result"
    }
   ],
   "source": [
    "mesh['tri'].topology().shape"
   ]
  },
  {
   "cell_type": "code",
   "execution_count": 23,
   "metadata": {},
   "outputs": [
    {
     "data": {
      "text/plain": [
       "(162, 3)"
      ]
     },
     "execution_count": 23,
     "metadata": {},
     "output_type": "execute_result"
    }
   ],
   "source": [
    "mesh['tri', 'trimesh-1'].topology().shape"
   ]
  },
  {
   "cell_type": "code",
   "execution_count": 24,
   "metadata": {},
   "outputs": [
    {
     "data": {
      "text/plain": [
       "(162, 3)"
      ]
     },
     "execution_count": 24,
     "metadata": {},
     "output_type": "execute_result"
    }
   ],
   "source": [
    "mesh['tri']['trimesh-2'].topology().shape"
   ]
  },
  {
   "cell_type": "code",
   "execution_count": 25,
   "metadata": {},
   "outputs": [
    {
     "data": {
      "text/plain": [
       "(100, 4)"
      ]
     },
     "execution_count": 25,
     "metadata": {},
     "output_type": "execute_result"
    }
   ],
   "source": [
    "mesh['quad', 'grid-1'].topology().shape"
   ]
  },
  {
   "cell_type": "code",
   "execution_count": 26,
   "metadata": {},
   "outputs": [
    {
     "data": {
      "text/plain": [
       "424"
      ]
     },
     "execution_count": 26,
     "metadata": {},
     "output_type": "execute_result"
    }
   ],
   "source": [
    "len(mesh.topology())"
   ]
  },
  {
   "cell_type": "code",
   "execution_count": 27,
   "metadata": {},
   "outputs": [
    {
     "data": {
      "text/plain": [
       "<Array [16, 15, 5] type='3 * int32'>"
      ]
     },
     "execution_count": 27,
     "metadata": {},
     "output_type": "execute_result"
    }
   ],
   "source": [
    "mesh.topology()[0]"
   ]
  },
  {
   "cell_type": "code",
   "execution_count": 28,
   "metadata": {},
   "outputs": [
    {
     "data": {
      "text/plain": [
       "<Array [108, 119, 120, 109] type='4 * int32'>"
      ]
     },
     "execution_count": 28,
     "metadata": {},
     "output_type": "execute_result"
    }
   ],
   "source": [
    "mesh.topology()[-1]"
   ]
  }
 ],
 "metadata": {
  "interpreter": {
   "hash": "8d15e2cb4dca8274af5fb092bbadab583a099b53b169f927cb892edc8b735b32"
  },
  "kernelspec": {
   "display_name": "Python 3.8.10 64-bit ('.dewloosh': venv)",
   "language": "python",
   "name": "python3"
  },
  "language_info": {
   "codemirror_mode": {
    "name": "ipython",
    "version": 3
   },
   "file_extension": ".py",
   "mimetype": "text/x-python",
   "name": "python",
   "nbconvert_exporter": "python",
   "pygments_lexer": "ipython3",
   "version": "3.8.10"
  },
  "orig_nbformat": 4
 },
 "nbformat": 4,
 "nbformat_minor": 2
}
